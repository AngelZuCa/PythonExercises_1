{
  "nbformat": 4,
  "nbformat_minor": 0,
  "metadata": {
    "colab": {
      "provenance": [],
      "authorship_tag": "ABX9TyPctqMvYuEz4ygd8rGnZqYm",
      "include_colab_link": true
    },
    "kernelspec": {
      "name": "python3",
      "display_name": "Python 3"
    },
    "language_info": {
      "name": "python"
    }
  },
  "cells": [
    {
      "cell_type": "markdown",
      "metadata": {
        "id": "view-in-github",
        "colab_type": "text"
      },
      "source": [
        "<a href=\"https://colab.research.google.com/github/AngelZuCa/PythonExercises_1/blob/main/Text_Analysis_Tool.ipynb\" target=\"_parent\"><img src=\"https://colab.research.google.com/assets/colab-badge.svg\" alt=\"Open In Colab\"/></a>"
      ]
    },
    {
      "cell_type": "code",
      "execution_count": 14,
      "metadata": {
        "colab": {
          "base_uri": "https://localhost:8080/"
        },
        "id": "Wx2ObaYljawx",
        "outputId": "09d65cd7-11a6-42cb-fe65-23e7de608d95"
      },
      "outputs": [
        {
          "output_type": "stream",
          "name": "stdout",
          "text": [
            "Number of words: 209\n",
            "Number of sentences: 15\n",
            "Number of paragraphs: 6\n",
            "Average word length: 5.760765550239235\n",
            "Most common words:\n",
            "and (14)\n",
            "a (8)\n",
            "Python (7)\n",
            "is (7)\n",
            "of (7)\n",
            "to (6)\n",
            "for (5)\n",
            "data (4)\n",
            "Python's (4)\n",
            "has (3)\n"
          ]
        }
      ],
      "source": [
        "import re\n",
        "\n",
        "def read_text_file(filename):\n",
        "  \"\"\"Reads a text file and returns its contents as a string.\"\"\"\n",
        "  with open(filename, \"r\") as f:\n",
        "    text = f.read()\n",
        "  return text\n",
        "\n",
        "def count_words(text):\n",
        "  \"\"\"Counts the number of words in a text string.\"\"\"\n",
        "  words = re.split(r\"\\s+\", text)\n",
        "  return len(words)\n",
        "\n",
        "def count_sentences(text):\n",
        "  \"\"\"Counts the number of sentences in a text string.\"\"\"\n",
        "  sentences = re.split(r\"[.!?]\", text)\n",
        "  return len(sentences)\n",
        "\n",
        "def count_paragraphs(text):\n",
        "  \"\"\"Counts the number of paragraphs in a text string.\"\"\"\n",
        "  paragraphs = re.split(r\"\\n\\n\", text)\n",
        "  return len(paragraphs)\n",
        "\n",
        "def calculate_average_word_length(text):\n",
        "  \"\"\"Calculates the average word length in a text string.\"\"\"\n",
        "  words = re.split(r\"\\s+\", text)\n",
        "  total_word_length = sum(len(word) for word in words)\n",
        "  average_word_length = total_word_length / len(words)\n",
        "  return average_word_length\n",
        "\n",
        "def identify_most_common_words(text):\n",
        "  \"\"\"Identifies the most common words in a text string and their frequencies.\"\"\"\n",
        "  words = re.split(r\"\\s+\", text)\n",
        "  word_counts = {}\n",
        "  for word in words:\n",
        "    if word in word_counts:\n",
        "      word_counts[word] += 1\n",
        "    else:\n",
        "      word_counts[word] = 1\n",
        "\n",
        "  # Sort the word counts in descending order.\n",
        "  word_counts = sorted(word_counts.items(), key=lambda x: x[1], reverse=True)\n",
        "\n",
        "  # Return the top 10 most common words.\n",
        "  most_common_words = word_counts[:10]\n",
        "  return most_common_words\n",
        "\n",
        "def main():\n",
        "  \"\"\"Reads a text file and performs various analyses on its content.\"\"\"\n",
        "  filename = \"prueba.txt\"\n",
        "  text = read_text_file(filename)\n",
        "\n",
        "  # Count the number of words, sentences, and paragraphs.\n",
        "  num_words = count_words(text)\n",
        "  num_sentences = count_sentences(text)\n",
        "  num_paragraphs = count_paragraphs(text)\n",
        "\n",
        "  # Calculate the average word length.\n",
        "  average_word_length = calculate_average_word_length(text)\n",
        "\n",
        "  # Identify the most common words and their frequencies.\n",
        "  most_common_words = identify_most_common_words(text)\n",
        "\n",
        "  # Print the results.\n",
        "  print(\"Number of words:\", num_words)\n",
        "  print(\"Number of sentences:\", num_sentences)\n",
        "  print(\"Number of paragraphs:\", num_paragraphs)\n",
        "  print(\"Average word length:\", average_word_length)\n",
        "  print(\"Most common words:\")\n",
        "  for word, count in most_common_words:\n",
        "    print(f\"{word} ({count})\")\n",
        "\n",
        "if __name__ == \"__main__\":\n",
        "  main()\n"
      ]
    }
  ]
}