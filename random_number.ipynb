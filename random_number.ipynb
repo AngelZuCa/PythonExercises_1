{
  "nbformat": 4,
  "nbformat_minor": 0,
  "metadata": {
    "colab": {
      "provenance": [],
      "authorship_tag": "ABX9TyPokLKS09HCQFhzOlZonud9",
      "include_colab_link": true
    },
    "kernelspec": {
      "name": "python3",
      "display_name": "Python 3"
    },
    "language_info": {
      "name": "python"
    }
  },
  "cells": [
    {
      "cell_type": "markdown",
      "metadata": {
        "id": "view-in-github",
        "colab_type": "text"
      },
      "source": [
        "<a href=\"https://colab.research.google.com/github/AngelZuCa/PythonExercises_1/blob/main/random_number.ipynb\" target=\"_parent\"><img src=\"https://colab.research.google.com/assets/colab-badge.svg\" alt=\"Open In Colab\"/></a>"
      ]
    },
    {
      "cell_type": "markdown",
      "source": [
        "Angel de Jesus Zuñiga Camporredondo #1725846 Artificial Intelligence 001"
      ],
      "metadata": {
        "id": "yX2L77FGMYcE"
      }
    },
    {
      "cell_type": "code",
      "execution_count": null,
      "metadata": {
        "colab": {
          "base_uri": "https://localhost:8080/"
        },
        "id": "KyXAQPK1gjc1",
        "outputId": "3730d1c5-df26-4279-bde8-2c6e2d3e2fdd"
      },
      "outputs": [
        {
          "output_type": "stream",
          "name": "stdout",
          "text": [
            "Welcome to the Number Guessing Game!\n",
            "I have selected a random number between 1 and 100.\n",
            "Try to guess it!\n",
            "Enter your guess: 97\n",
            "Lower! Try again.\n",
            "Enter your guess: 50\n",
            "Higher! Try again.\n",
            "Enter your guess: 75\n",
            "Lower! Try again.\n",
            "Enter your guess: 62\n",
            "Higher! Try again.\n",
            "Enter your guess: 63\n",
            "Higher! Try again.\n"
          ]
        }
      ],
      "source": [
        "import random\n",
        "\n",
        "def number_guessing_game():\n",
        "    # Generate a random number between 1 and 100\n",
        "    target_number = random.randint(1, 100)\n",
        "\n",
        "    print(\"Welcome to the Number Guessing Game!\")\n",
        "    print(\"I have selected a random number between 1 and 100.\")\n",
        "    print(\"Try to guess it!\")\n",
        "\n",
        "    attempts = 0\n",
        "\n",
        "    while True:\n",
        "        try:\n",
        "            user_guess = int(input(\"Enter your guess: \"))\n",
        "\n",
        "            if user_guess < 1 or user_guess > 100:\n",
        "                print(\"Please enter a number between 1 and 100.\")\n",
        "                continue\n",
        "\n",
        "            attempts += 1\n",
        "\n",
        "            if user_guess < target_number:\n",
        "                print(\"Higher! Try again.\")\n",
        "            elif user_guess > target_number:\n",
        "                print(\"Lower! Try again.\")\n",
        "            else:\n",
        "                print(f\"Congratulations! You guessed the number {target_number} in {attempts} attempts.\")\n",
        "                break\n",
        "        except ValueError:\n",
        "            print(\"Invalid input. Please enter a valid number.\")\n",
        "\n",
        "if __name__ == \"__main__\":\n",
        "    number_guessing_game()\n"
      ]
    },
    {
      "cell_type": "markdown",
      "source": [],
      "metadata": {
        "id": "yk4vkgO5MU9j"
      }
    }
  ]
}